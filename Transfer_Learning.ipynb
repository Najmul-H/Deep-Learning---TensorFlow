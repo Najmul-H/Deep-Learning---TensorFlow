{
  "nbformat": 4,
  "nbformat_minor": 0,
  "metadata": {
    "colab": {
      "name": "Transfer Learning.ipynb",
      "version": "0.3.2",
      "provenance": [],
      "collapsed_sections": []
    },
    "kernelspec": {
      "name": "python2",
      "display_name": "Python 2"
    },
    "accelerator": "GPU"
  },
  "cells": [
    {
      "metadata": {
        "colab_type": "code",
        "id": "1xJZ5glPPCRz",
        "outputId": "8c364594-4fd1-455a-dcdf-1f824592d00f",
        "colab": {
          "base_uri": "https://localhost:8080/",
          "height": 292
        }
      },
      "cell_type": "code",
      "source": [
        "import os\n",
        "\n",
        "from tensorflow.keras import layers\n",
        "from tensorflow.keras import Model\n",
        "!wget --no-check-certificate \\\n",
        "    https://storage.googleapis.com/mledu-datasets/inception_v3_weights_tf_dim_ordering_tf_kernels_notop.h5 \\\n",
        "    -O /tmp/inception_v3_weights_tf_dim_ordering_tf_kernels_notop.h5\n",
        "  \n",
        "from tensorflow.keras.applications.inception_v3 import InceptionV3\n",
        "\n",
        "local_weights_file = '/tmp/inception_v3_weights_tf_dim_ordering_tf_kernels_notop.h5'\n",
        "\n",
        "pre_trained_model = InceptionV3(input_shape = (150, 150, 3), \n",
        "                                include_top = False, \n",
        "                                weights = None)\n",
        "\n",
        "pre_trained_model.load_weights(local_weights_file)\n",
        "\n",
        "for layer in pre_trained_model.layers:\n",
        "  layer.trainable = False\n",
        "  \n",
        "# pre_trained_model.summary()\n",
        "\n",
        "last_layer = pre_trained_model.get_layer('mixed7')\n",
        "print('last layer output shape: ', last_layer.output_shape)\n",
        "last_output = last_layer.output"
      ],
      "execution_count": 1,
      "outputs": [
        {
          "output_type": "stream",
          "text": [
            "--2019-04-30 02:21:35--  https://storage.googleapis.com/mledu-datasets/inception_v3_weights_tf_dim_ordering_tf_kernels_notop.h5\n",
            "Resolving storage.googleapis.com (storage.googleapis.com)... 74.125.197.128, 2607:f8b0:400e:c08::80\n",
            "Connecting to storage.googleapis.com (storage.googleapis.com)|74.125.197.128|:443... connected.\n",
            "HTTP request sent, awaiting response... 200 OK\n",
            "Length: 87910968 (84M) [application/x-hdf]\n",
            "Saving to: ‘/tmp/inception_v3_weights_tf_dim_ordering_tf_kernels_notop.h5’\n",
            "\n",
            "/tmp/inception_v3_w 100%[===================>]  83.84M  78.9MB/s    in 1.1s    \n",
            "\n",
            "2019-04-30 02:21:36 (78.9 MB/s) - ‘/tmp/inception_v3_weights_tf_dim_ordering_tf_kernels_notop.h5’ saved [87910968/87910968]\n",
            "\n",
            "WARNING:tensorflow:From /usr/local/lib/python2.7/dist-packages/tensorflow/python/ops/resource_variable_ops.py:435: colocate_with (from tensorflow.python.framework.ops) is deprecated and will be removed in a future version.\n",
            "Instructions for updating:\n",
            "Colocations handled automatically by placer.\n",
            "('last layer output shape: ', (None, 7, 7, 768))\n"
          ],
          "name": "stdout"
        }
      ]
    },
    {
      "metadata": {
        "colab_type": "code",
        "id": "BMXb913pbvFg",
        "colab": {
          "base_uri": "https://localhost:8080/",
          "height": 88
        },
        "outputId": "bf073818-d78f-430f-ed67-d1f27029623e"
      },
      "cell_type": "code",
      "source": [
        "from tensorflow.keras.optimizers import RMSprop\n",
        "\n",
        "# Flatten the output layer to 1 dimension\n",
        "x = layers.Flatten()(last_output)\n",
        "# Add a fully connected layer with 1,024 hidden units and ReLU activation\n",
        "x = layers.Dense(1024, activation='relu')(x)\n",
        "# Add a dropout rate of 0.2\n",
        "x = layers.Dropout(0.2)(x)                  \n",
        "# Add a final sigmoid layer for classification\n",
        "x = layers.Dense  (1, activation='sigmoid')(x)           \n",
        "\n",
        "model = Model( pre_trained_model.input, x) \n",
        "\n",
        "model.compile(optimizer = RMSprop(lr=0.0001), \n",
        "              loss = 'binary_crossentropy', \n",
        "              metrics = ['acc'])\n"
      ],
      "execution_count": 2,
      "outputs": [
        {
          "output_type": "stream",
          "text": [
            "WARNING:tensorflow:From /usr/local/lib/python2.7/dist-packages/tensorflow/python/keras/layers/core.py:143: calling dropout (from tensorflow.python.ops.nn_ops) with keep_prob is deprecated and will be removed in a future version.\n",
            "Instructions for updating:\n",
            "Please use `rate` instead of `keep_prob`. Rate should be set to `rate = 1 - keep_prob`.\n"
          ],
          "name": "stdout"
        }
      ]
    },
    {
      "metadata": {
        "colab_type": "code",
        "id": "O4s8HckqGlnb",
        "outputId": "7508ad3b-51ea-4959-b5b3-758a930dc73d",
        "colab": {
          "base_uri": "https://localhost:8080/",
          "height": 238
        }
      },
      "cell_type": "code",
      "source": [
        "!wget --no-check-certificate \\\n",
        "        https://storage.googleapis.com/mledu-datasets/cats_and_dogs_filtered.zip \\\n",
        "       -O /tmp/cats_and_dogs_filtered.zip\n",
        "\n",
        "from tensorflow.keras.preprocessing.image import ImageDataGenerator\n",
        "\n",
        "import os\n",
        "import zipfile\n",
        "\n",
        "local_zip = '//tmp/cats_and_dogs_filtered.zip'\n",
        "\n",
        "zip_ref = zipfile.ZipFile(local_zip, 'r')\n",
        "\n",
        "zip_ref.extractall('/tmp')\n",
        "zip_ref.close()\n",
        "\n",
        "# Define our example directories and files\n",
        "base_dir = '/tmp/cats_and_dogs_filtered'\n",
        "\n",
        "train_dir = os.path.join( base_dir, 'train')\n",
        "validation_dir = os.path.join( base_dir, 'validation')\n",
        "\n",
        "\n",
        "train_cats_dir = os.path.join(train_dir, 'cats') # Directory with our training cat pictures\n",
        "train_dogs_dir = os.path.join(train_dir, 'dogs') # Directory with our training dog pictures\n",
        "validation_cats_dir = os.path.join(validation_dir, 'cats') # Directory with our validation cat pictures\n",
        "validation_dogs_dir = os.path.join(validation_dir, 'dogs')# Directory with our validation dog pictures\n",
        "\n",
        "train_cat_fnames = os.listdir(train_cats_dir)\n",
        "train_dog_fnames = os.listdir(train_dogs_dir)\n",
        "\n",
        "# Add our data-augmentation parameters to ImageDataGenerator\n",
        "train_datagen = ImageDataGenerator(rescale = 1./255.,\n",
        "                                   rotation_range = 40,\n",
        "                                   width_shift_range = 0.2,\n",
        "                                   height_shift_range = 0.2,\n",
        "                                   shear_range = 0.2,\n",
        "                                   zoom_range = 0.2,\n",
        "                                   horizontal_flip = True)\n",
        "\n",
        "# Note that the validation data should not be augmented!\n",
        "test_datagen = ImageDataGenerator( rescale = 1.0/255. )\n",
        "\n",
        "# Flow training images in batches of 20 using train_datagen generator\n",
        "train_generator = train_datagen.flow_from_directory(train_dir,\n",
        "                                                    batch_size = 20,\n",
        "                                                    class_mode = 'binary', \n",
        "                                                    target_size = (150, 150))     \n",
        "\n",
        "# Flow validation images in batches of 20 using test_datagen generator\n",
        "validation_generator =  test_datagen.flow_from_directory( validation_dir,\n",
        "                                                          batch_size  = 20,\n",
        "                                                          class_mode  = 'binary', \n",
        "                                                          target_size = (150, 150))"
      ],
      "execution_count": 3,
      "outputs": [
        {
          "output_type": "stream",
          "text": [
            "--2019-04-30 02:28:16--  https://storage.googleapis.com/mledu-datasets/cats_and_dogs_filtered.zip\n",
            "Resolving storage.googleapis.com (storage.googleapis.com)... 74.125.20.128, 2607:f8b0:400e:c08::80\n",
            "Connecting to storage.googleapis.com (storage.googleapis.com)|74.125.20.128|:443... connected.\n",
            "HTTP request sent, awaiting response... 200 OK\n",
            "Length: 68606236 (65M) [application/zip]\n",
            "Saving to: ‘/tmp/cats_and_dogs_filtered.zip’\n",
            "\n",
            "/tmp/cats_and_dogs_ 100%[===================>]  65.43M  74.7MB/s    in 0.9s    \n",
            "\n",
            "2019-04-30 02:28:17 (74.7 MB/s) - ‘/tmp/cats_and_dogs_filtered.zip’ saved [68606236/68606236]\n",
            "\n",
            "Found 2000 images belonging to 2 classes.\n",
            "Found 1000 images belonging to 2 classes.\n"
          ],
          "name": "stdout"
        }
      ]
    },
    {
      "metadata": {
        "colab_type": "code",
        "id": "Blhq2MAUeyGA",
        "outputId": "264cdeff-d98c-4b32-d21a-a5daf22badb9",
        "colab": {
          "base_uri": "https://localhost:8080/",
          "height": 1108
        }
      },
      "cell_type": "code",
      "source": [
        "history = model.fit_generator(\n",
        "            train_generator,\n",
        "            validation_data = validation_generator,\n",
        "            steps_per_epoch = 100,\n",
        "            epochs = 20,\n",
        "            validation_steps = 50,\n",
        "            verbose = 2)"
      ],
      "execution_count": 4,
      "outputs": [
        {
          "output_type": "stream",
          "text": [
            "WARNING:tensorflow:From /usr/local/lib/python2.7/dist-packages/tensorflow/python/ops/math_ops.py:3066: to_int32 (from tensorflow.python.ops.math_ops) is deprecated and will be removed in a future version.\n",
            "Instructions for updating:\n",
            "Use tf.cast instead.\n",
            "Epoch 1/20\n",
            "50/50 [==============================] - 5s 97ms/step - loss: 0.2077 - acc: 0.9360\n",
            " - 25s - loss: 0.4911 - acc: 0.7690 - val_loss: 0.2077 - val_acc: 0.9360\n",
            "Epoch 2/20\n",
            "50/50 [==============================] - 4s 90ms/step - loss: 0.2099 - acc: 0.9460\n",
            " - 18s - loss: 0.3861 - acc: 0.8335 - val_loss: 0.2099 - val_acc: 0.9460\n",
            "Epoch 3/20\n",
            "50/50 [==============================] - 4s 89ms/step - loss: 0.3441 - acc: 0.9290\n",
            " - 18s - loss: 0.3395 - acc: 0.8565 - val_loss: 0.3441 - val_acc: 0.9290\n",
            "Epoch 4/20\n",
            "50/50 [==============================] - 4s 89ms/step - loss: 0.3969 - acc: 0.9280\n",
            " - 18s - loss: 0.3321 - acc: 0.8490 - val_loss: 0.3969 - val_acc: 0.9280\n",
            "Epoch 5/20\n",
            "50/50 [==============================] - 5s 101ms/step - loss: 0.2430 - acc: 0.9530\n",
            " - 20s - loss: 0.3276 - acc: 0.8625 - val_loss: 0.2430 - val_acc: 0.9530\n",
            "Epoch 6/20\n",
            "50/50 [==============================] - 5s 90ms/step - loss: 0.2134 - acc: 0.9620\n",
            " - 18s - loss: 0.3065 - acc: 0.8805 - val_loss: 0.2134 - val_acc: 0.9620\n",
            "Epoch 7/20\n",
            "50/50 [==============================] - 4s 90ms/step - loss: 0.4097 - acc: 0.9350\n",
            " - 18s - loss: 0.3136 - acc: 0.8695 - val_loss: 0.4097 - val_acc: 0.9350\n",
            "Epoch 8/20\n",
            "50/50 [==============================] - 5s 106ms/step - loss: 0.4110 - acc: 0.9400\n",
            " - 20s - loss: 0.3046 - acc: 0.8715 - val_loss: 0.4110 - val_acc: 0.9400\n",
            "Epoch 9/20\n",
            "50/50 [==============================] - 5s 105ms/step - loss: 0.2319 - acc: 0.9620\n",
            " - 19s - loss: 0.2868 - acc: 0.8775 - val_loss: 0.2319 - val_acc: 0.9620\n",
            "Epoch 10/20\n",
            "50/50 [==============================] - 4s 90ms/step - loss: 0.2875 - acc: 0.9550\n",
            " - 19s - loss: 0.2836 - acc: 0.8835 - val_loss: 0.2875 - val_acc: 0.9550\n",
            "Epoch 11/20\n",
            "50/50 [==============================] - 4s 89ms/step - loss: 0.2833 - acc: 0.9590\n",
            " - 18s - loss: 0.2943 - acc: 0.8750 - val_loss: 0.2833 - val_acc: 0.9590\n",
            "Epoch 12/20\n",
            "50/50 [==============================] - 4s 90ms/step - loss: 0.3238 - acc: 0.9530\n",
            " - 18s - loss: 0.2949 - acc: 0.8825 - val_loss: 0.3238 - val_acc: 0.9530\n",
            "Epoch 13/20\n",
            "50/50 [==============================] - 4s 89ms/step - loss: 0.2787 - acc: 0.9610\n",
            " - 18s - loss: 0.2755 - acc: 0.8825 - val_loss: 0.2787 - val_acc: 0.9610\n",
            "Epoch 14/20\n",
            "50/50 [==============================] - 4s 90ms/step - loss: 0.3529 - acc: 0.9540\n",
            " - 20s - loss: 0.2692 - acc: 0.8920 - val_loss: 0.3529 - val_acc: 0.9540\n",
            "Epoch 15/20\n",
            "50/50 [==============================] - 4s 90ms/step - loss: 0.2851 - acc: 0.9630\n",
            " - 18s - loss: 0.2430 - acc: 0.9055 - val_loss: 0.2851 - val_acc: 0.9630\n",
            "Epoch 16/20\n",
            "50/50 [==============================] - 4s 89ms/step - loss: 0.3630 - acc: 0.9540\n",
            " - 18s - loss: 0.2597 - acc: 0.8930 - val_loss: 0.3630 - val_acc: 0.9540\n",
            "Epoch 17/20\n",
            "50/50 [==============================] - 4s 89ms/step - loss: 0.4287 - acc: 0.9470\n",
            " - 18s - loss: 0.2720 - acc: 0.8930 - val_loss: 0.4287 - val_acc: 0.9470\n",
            "Epoch 18/20\n",
            "50/50 [==============================] - 5s 94ms/step - loss: 0.3088 - acc: 0.9580\n",
            " - 20s - loss: 0.2281 - acc: 0.9065 - val_loss: 0.3088 - val_acc: 0.9580\n",
            "Epoch 19/20\n",
            "50/50 [==============================] - 4s 89ms/step - loss: 0.4568 - acc: 0.9470\n",
            " - 18s - loss: 0.2494 - acc: 0.9035 - val_loss: 0.4568 - val_acc: 0.9470\n",
            "Epoch 20/20\n",
            "50/50 [==============================] - 5s 92ms/step - loss: 0.3844 - acc: 0.9530\n",
            " - 18s - loss: 0.2390 - acc: 0.9055 - val_loss: 0.3844 - val_acc: 0.9530\n"
          ],
          "name": "stdout"
        }
      ]
    },
    {
      "metadata": {
        "id": "C2Fp6Se9rKuL",
        "colab_type": "code",
        "outputId": "2c463398-ae79-4232-ee1b-a97c080e5a6e",
        "colab": {
          "base_uri": "https://localhost:8080/",
          "height": 298
        }
      },
      "cell_type": "code",
      "source": [
        "import matplotlib.pyplot as plt\n",
        "acc = history.history['acc']\n",
        "val_acc = history.history['val_acc']\n",
        "loss = history.history['loss']\n",
        "val_loss = history.history['val_loss']\n",
        "\n",
        "epochs = range(len(acc))\n",
        "\n",
        "plt.plot(epochs, acc, 'r', label='Training accuracy')\n",
        "plt.plot(epochs, val_acc, 'b', label='Validation accuracy')\n",
        "plt.title('Training and validation accuracy')\n",
        "plt.legend(loc=0)\n",
        "plt.figure()\n",
        "\n",
        "\n",
        "plt.show()"
      ],
      "execution_count": 5,
      "outputs": [
        {
          "output_type": "display_data",
          "data": {
            "image/png": "[encoded data removed]",
            "text/plain": [
              "<Figure size 432x288 with 1 Axes>"
            ]
          },
          "metadata": {
            "tags": []
          }
        },
        {
          "output_type": "display_data",
          "data": {
            "text/plain": [
              "<Figure size 432x288 with 0 Axes>"
            ]
          },
          "metadata": {
            "tags": []
          }
        }
      ]
    }
  ]
}