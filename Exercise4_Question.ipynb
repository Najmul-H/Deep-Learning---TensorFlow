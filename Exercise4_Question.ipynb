{
  "nbformat": 4,
  "nbformat_minor": 0,
  "metadata": {
    "colab": {
      "name": "Exercise4_Question.ipynb",
      "version": "0.3.2",
      "provenance": [],
      "collapsed_sections": []
    },
    "kernelspec": {
      "name": "python3",
      "display_name": "Python 3"
    },
    "accelerator": "GPU"
  },
  "cells": [
    {
      "metadata": {
        "id": "UncprnB0ymAE",
        "colab_type": "text"
      },
      "cell_type": "markdown",
      "source": [
        "Below is code with a link to a happy or sad dataset which contains 80 images, 40 happy and 40 sad. \n",
        "Create a convolutional neural network that trains to 100% accuracy on these images,  which cancels training upon hitting training accuracy of >.999\n",
        "\n",
        "Hint -- it will work best with 3 convolutional layers."
      ]
    },
    {
      "metadata": {
        "id": "7Vti6p3PxmpS",
        "colab_type": "code",
        "outputId": "4db79156-e4dc-45a0-8605-e29302978aa8",
        "colab": {
          "base_uri": "https://localhost:8080/",
          "height": 204
        }
      },
      "cell_type": "code",
      "source": [
        "import tensorflow as tf\n",
        "import os\n",
        "import zipfile\n",
        "\n",
        "\n",
        "DESIRED_ACCURACY = 0.999\n",
        "\n",
        "!wget --no-check-certificate \\\n",
        "    \"https://storage.googleapis.com/laurencemoroney-blog.appspot.com/happy-or-sad.zip\" \\\n",
        "    -O \"/tmp/happy-or-sad.zip\"\n",
        "\n",
        "zip_ref = zipfile.ZipFile(\"/tmp/happy-or-sad.zip\", 'r')\n",
        "zip_ref.extractall(\"/tmp/h-or-s\")\n",
        "zip_ref.close()\n",
        "\n",
        "class myCallback(tf.keras.callbacks.Callback):\n",
        "   def on_epoch_end(self, epoch, logs={}):\n",
        "    if(logs.get('acc')>DESIRED_ACCURACY):\n",
        "      print(\"\\nReached 100% accuracy so cancelling training!\")\n",
        "      self.model.stop_training = True\n",
        "\n",
        "callbacks = myCallback()"
      ],
      "execution_count": 0,
      "outputs": [
        {
          "output_type": "stream",
          "text": [
            "--2019-04-25 05:41:22--  https://storage.googleapis.com/laurencemoroney-blog.appspot.com/happy-or-sad.zip\n",
            "Resolving storage.googleapis.com (storage.googleapis.com)... 74.125.141.128, 2607:f8b0:400c:c06::80\n",
            "Connecting to storage.googleapis.com (storage.googleapis.com)|74.125.141.128|:443... connected.\n",
            "HTTP request sent, awaiting response... 200 OK\n",
            "Length: 2670333 (2.5M) [application/zip]\n",
            "Saving to: ‘/tmp/happy-or-sad.zip’\n",
            "\n",
            "\r/tmp/happy-or-sad.z   0%[                    ]       0  --.-KB/s               \r/tmp/happy-or-sad.z 100%[===================>]   2.55M  --.-KB/s    in 0.01s   \n",
            "\n",
            "2019-04-25 05:41:22 (187 MB/s) - ‘/tmp/happy-or-sad.zip’ saved [2670333/2670333]\n",
            "\n"
          ],
          "name": "stdout"
        }
      ]
    },
    {
      "metadata": {
        "id": "6DLGbXXI1j_V",
        "colab_type": "code",
        "outputId": "c3d47fac-b955-45d3-b126-a3f9f5032338",
        "colab": {
          "base_uri": "https://localhost:8080/",
          "height": 88
        }
      },
      "cell_type": "code",
      "source": [
        "# This Code Block should Define and Compile the Model\n",
        "model = tf.keras.models.Sequential([\n",
        "    # Note the input shape is the desired size of the image 150x150 with 3 bytes color\n",
        "    # This is the first convolution\n",
        "    tf.keras.layers.Conv2D(16, (3,3), activation='relu', input_shape=(150, 150, 3)),\n",
        "    tf.keras.layers.MaxPooling2D(2, 2),\n",
        "    # The second convolution\n",
        "    tf.keras.layers.Conv2D(32, (3,3), activation='relu'),\n",
        "    tf.keras.layers.MaxPooling2D(2,2),\n",
        "    # The third convolution\n",
        "    tf.keras.layers.Conv2D(64, (3,3), activation='relu'),\n",
        "    tf.keras.layers.MaxPooling2D(2,2),\n",
        "    # Flatten the results to feed into a DNN\n",
        "    tf.keras.layers.Flatten(),\n",
        "    # 512 neuron hidden layer\n",
        "    tf.keras.layers.Dense(512, activation='relu'),\n",
        "    # Only 1 output neuron. It will contain a value from 0-1 where 0 for 1 class ('happy') and 1 for the other ('sad')\n",
        "    tf.keras.layers.Dense(1, activation='sigmoid')\n",
        "])\n",
        "\n",
        "from tensorflow.keras.optimizers import RMSprop\n",
        "\n",
        "model.compile(loss='binary_crossentropy',\n",
        "              optimizer=RMSprop(lr=0.001),\n",
        "              metrics=['acc'])"
      ],
      "execution_count": 0,
      "outputs": [
        {
          "output_type": "stream",
          "text": [
            "WARNING:tensorflow:From /usr/local/lib/python3.6/dist-packages/tensorflow/python/ops/resource_variable_ops.py:435: colocate_with (from tensorflow.python.framework.ops) is deprecated and will be removed in a future version.\n",
            "Instructions for updating:\n",
            "Colocations handled automatically by placer.\n"
          ],
          "name": "stdout"
        }
      ]
    },
    {
      "metadata": {
        "id": "4Ap9fUJE1vVu",
        "colab_type": "code",
        "outputId": "d04f0201-4288-4205-e8c8-ab4d34481a01",
        "colab": {
          "base_uri": "https://localhost:8080/",
          "height": 34
        }
      },
      "cell_type": "code",
      "source": [
        "# This code block should create an instance of an ImageDataGenerator called train_datagen \n",
        "# And a train_generator by calling train_datagen.flow_from_directory\n",
        "\n",
        "from tensorflow.keras.preprocessing.image import ImageDataGenerator\n",
        "\n",
        "train_datagen = ImageDataGenerator(rescale=1/255)\n",
        "\n",
        "train_generator = train_datagen.flow_from_directory(\n",
        "       '/tmp/h-or-s/',  # This is the source directory for training images\n",
        "        target_size=(150, 150),  # All images will be resized to 150x150\n",
        "        batch_size=128,\n",
        "        # Since we use binary_crossentropy loss, we need binary labels\n",
        "        class_mode='binary')\n",
        "\n",
        "# Expected output: 'Found 80 images belonging to 2 classes'"
      ],
      "execution_count": 0,
      "outputs": [
        {
          "output_type": "stream",
          "text": [
            "Found 80 images belonging to 2 classes.\n"
          ],
          "name": "stdout"
        }
      ]
    },
    {
      "metadata": {
        "id": "48dLm13U1-Le",
        "colab_type": "code",
        "outputId": "cc7558df-28ad-4361-8a7b-0061ef469f70",
        "colab": {
          "base_uri": "https://localhost:8080/",
          "height": 1717
        }
      },
      "cell_type": "code",
      "source": [
        "# This code block should call model.fit_generator and train for\n",
        "# a number of epochs. \n",
        "history = model.fit_generator(\n",
        "      train_generator,\n",
        "      steps_per_epoch=1,  \n",
        "      epochs=50,\n",
        "      verbose=1,\n",
        "      callbacks=[callbacks])\n",
        "    \n",
        "# Expected output: \"Reached 99.9% accuracy so cancelling training!\"\""
      ],
      "execution_count": 0,
      "outputs": [
        {
          "output_type": "stream",
          "text": [
            "Epoch 1/50\n",
            "\r1/1 [==============================] - 0s 170ms/step - loss: 0.1725 - acc: 1.0000\n",
            "Epoch 2/50\n",
            "1/1 [==============================] - 0s 290ms/step - loss: 0.1945 - acc: 0.9250\n",
            "Epoch 3/50\n",
            "1/1 [==============================] - 0s 198ms/step - loss: 0.1285 - acc: 0.9750\n",
            "Epoch 4/50\n",
            "1/1 [==============================] - 0s 296ms/step - loss: 0.0960 - acc: 0.9500\n",
            "Epoch 5/50\n",
            "1/1 [==============================] - 0s 200ms/step - loss: 0.0807 - acc: 0.9750\n",
            "Epoch 6/50\n",
            "1/1 [==============================] - 0s 288ms/step - loss: 0.0699 - acc: 0.9625\n",
            "Epoch 7/50\n",
            "1/1 [==============================] - 0s 196ms/step - loss: 0.0679 - acc: 1.0000\n",
            "Epoch 8/50\n",
            "1/1 [==============================] - 0s 294ms/step - loss: 0.0999 - acc: 0.9500\n",
            "Epoch 9/50\n",
            "1/1 [==============================] - 0s 200ms/step - loss: 0.1042 - acc: 1.0000\n",
            "Epoch 10/50\n",
            "1/1 [==============================] - 0s 293ms/step - loss: 0.0814 - acc: 0.9500\n",
            "Epoch 11/50\n",
            "1/1 [==============================] - 0s 195ms/step - loss: 0.0463 - acc: 1.0000\n",
            "Epoch 12/50\n",
            "1/1 [==============================] - 0s 296ms/step - loss: 0.0391 - acc: 1.0000\n",
            "Epoch 13/50\n",
            "1/1 [==============================] - 0s 203ms/step - loss: 0.0347 - acc: 1.0000\n",
            "Epoch 14/50\n",
            "1/1 [==============================] - 0s 290ms/step - loss: 0.0384 - acc: 0.9750\n",
            "Epoch 15/50\n",
            "1/1 [==============================] - 0s 196ms/step - loss: 0.0288 - acc: 1.0000\n",
            "Epoch 16/50\n",
            "1/1 [==============================] - 0s 291ms/step - loss: 0.0252 - acc: 1.0000\n",
            "Epoch 17/50\n",
            "1/1 [==============================] - 0s 205ms/step - loss: 0.0228 - acc: 1.0000\n",
            "Epoch 18/50\n",
            "1/1 [==============================] - 0s 285ms/step - loss: 0.0210 - acc: 1.0000\n",
            "Epoch 19/50\n",
            "1/1 [==============================] - 0s 197ms/step - loss: 0.0175 - acc: 1.0000\n",
            "Epoch 20/50\n",
            "1/1 [==============================] - 0s 294ms/step - loss: 0.0179 - acc: 1.0000\n",
            "Epoch 21/50\n",
            "1/1 [==============================] - 0s 200ms/step - loss: 0.0155 - acc: 1.0000\n",
            "Epoch 22/50\n",
            "1/1 [==============================] - 0s 290ms/step - loss: 0.0120 - acc: 1.0000\n",
            "Epoch 23/50\n",
            "1/1 [==============================] - 0s 193ms/step - loss: 0.0092 - acc: 1.0000\n",
            "Epoch 24/50\n",
            "1/1 [==============================] - 0s 292ms/step - loss: 0.0079 - acc: 1.0000\n",
            "Epoch 25/50\n",
            "1/1 [==============================] - 0s 202ms/step - loss: 0.0065 - acc: 1.0000\n",
            "Epoch 26/50\n",
            "1/1 [==============================] - 0s 296ms/step - loss: 0.0058 - acc: 1.0000\n",
            "Epoch 27/50\n",
            "1/1 [==============================] - 0s 189ms/step - loss: 0.0051 - acc: 1.0000\n",
            "Epoch 28/50\n",
            "1/1 [==============================] - 0s 293ms/step - loss: 0.0046 - acc: 1.0000\n",
            "Epoch 29/50\n",
            "1/1 [==============================] - 0s 198ms/step - loss: 0.0041 - acc: 1.0000\n",
            "Epoch 30/50\n",
            "1/1 [==============================] - 0s 297ms/step - loss: 0.0038 - acc: 1.0000\n",
            "Epoch 31/50\n",
            "1/1 [==============================] - 0s 195ms/step - loss: 0.0035 - acc: 1.0000\n",
            "Epoch 32/50\n",
            "1/1 [==============================] - 0s 294ms/step - loss: 0.0032 - acc: 1.0000\n",
            "Epoch 33/50\n",
            "1/1 [==============================] - 0s 194ms/step - loss: 0.0029 - acc: 1.0000\n",
            "Epoch 34/50\n",
            "1/1 [==============================] - 0s 298ms/step - loss: 0.0026 - acc: 1.0000\n",
            "Epoch 35/50\n",
            "1/1 [==============================] - 0s 195ms/step - loss: 0.0023 - acc: 1.0000\n",
            "Epoch 36/50\n",
            "1/1 [==============================] - 0s 294ms/step - loss: 0.0021 - acc: 1.0000\n",
            "Epoch 37/50\n",
            "1/1 [==============================] - 0s 206ms/step - loss: 0.0019 - acc: 1.0000\n",
            "Epoch 38/50\n",
            "1/1 [==============================] - 0s 287ms/step - loss: 0.0017 - acc: 1.0000\n",
            "Epoch 39/50\n",
            "1/1 [==============================] - 0s 195ms/step - loss: 0.0015 - acc: 1.0000\n",
            "Epoch 40/50\n",
            "1/1 [==============================] - 0s 293ms/step - loss: 0.0013 - acc: 1.0000\n",
            "Epoch 41/50\n",
            "1/1 [==============================] - 0s 199ms/step - loss: 0.0012 - acc: 1.0000\n",
            "Epoch 42/50\n",
            "1/1 [==============================] - 0s 291ms/step - loss: 0.0010 - acc: 1.0000\n",
            "Epoch 43/50\n",
            "1/1 [==============================] - 0s 199ms/step - loss: 9.4031e-04 - acc: 1.0000\n",
            "Epoch 44/50\n",
            "1/1 [==============================] - 0s 292ms/step - loss: 8.5860e-04 - acc: 1.0000\n",
            "Epoch 45/50\n",
            "1/1 [==============================] - 0s 199ms/step - loss: 7.8366e-04 - acc: 1.0000\n",
            "Epoch 46/50\n",
            "1/1 [==============================] - 0s 298ms/step - loss: 7.2079e-04 - acc: 1.0000\n",
            "Epoch 47/50\n",
            "1/1 [==============================] - 0s 190ms/step - loss: 6.6043e-04 - acc: 1.0000\n",
            "Epoch 48/50\n",
            "1/1 [==============================] - 0s 292ms/step - loss: 6.0955e-04 - acc: 1.0000\n",
            "Epoch 49/50\n",
            "1/1 [==============================] - 0s 201ms/step - loss: 5.5986e-04 - acc: 1.0000\n",
            "Epoch 50/50\n",
            "1/1 [==============================] - 0s 293ms/step - loss: 5.1783e-04 - acc: 1.0000\n"
          ],
          "name": "stdout"
        }
      ]
    }
  ]
}